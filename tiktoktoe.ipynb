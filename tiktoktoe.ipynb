{
 "cells": [
  {
   "cell_type": "markdown",
   "metadata": {},
   "source": [
    "# TikTok scraper\n",
    "Scrape tiktok trending page and extract posts information"
   ]
  },
  {
   "cell_type": "markdown",
   "metadata": {},
   "source": [
    "  ## Imports"
   ]
  },
  {
   "cell_type": "code",
   "execution_count": 103,
   "metadata": {},
   "outputs": [],
   "source": [
    "from selenium import webdriver\n",
    "from selenium.webdriver.common.keys import Keys\n",
    "from selenium.webdriver.common.by import By\n",
    "from selenium.common.exceptions import NoSuchElementException, TimeoutException\n",
    "from selenium.webdriver.chrome.options import Options\n",
    "from selenium.webdriver.common.keys import Keys\n",
    "\n",
    "from selenium.webdriver.support.ui import WebDriverWait\n",
    "from selenium.webdriver.support import expected_conditions as EC\n",
    "\n",
    "import time\n",
    "import pandas as pd"
   ]
  },
  {
   "cell_type": "markdown",
   "metadata": {},
   "source": [
    "## Setting up the dataframes"
   ]
  },
  {
   "cell_type": "code",
   "execution_count": 104,
   "metadata": {},
   "outputs": [],
   "source": [
    "# Posts DF\n",
    "posts_columns =  ['user_id', 'post_desc', 'song', 'nb_likes', 'nb_comments', 'nb_shares']\n",
    "posts_df  = pd.DataFrame(columns = posts_columns)\n",
    "\n",
    "# Users DF\n",
    "users_columns =  ['user_id', 'user_desc', 'nb_followings', 'nb_followers', 'nb_likes']\n",
    "users_df  = pd.DataFrame(columns = users_columns)"
   ]
  },
  {
   "cell_type": "markdown",
   "metadata": {},
   "source": [
    "## Setting up the scraper"
   ]
  },
  {
   "cell_type": "code",
   "execution_count": 105,
   "metadata": {},
   "outputs": [],
   "source": [
    "chrome_options = webdriver.ChromeOptions()\n",
    "#chrome_options.add_argument(\"--headless\")\n",
    "#chrome_options.add_argument(\"--window-size=1920,1080\")\n",
    "chrome_options.add_argument(\"user-agent='Applebot'\")\n",
    "driver = webdriver.Chrome(r\"./chromedriver\", options=chrome_options)\n",
    "driver.get(\"https://www.tiktok.com/trending\")"
   ]
  },
  {
   "cell_type": "markdown",
   "metadata": {},
   "source": [
    "## Scraper"
   ]
  },
  {
   "cell_type": "markdown",
   "metadata": {},
   "source": [
    "### Scroll"
   ]
  },
  {
   "cell_type": "code",
   "execution_count": null,
   "metadata": {},
   "outputs": [],
   "source": [
    "SCROLL_PAUSE_TIME = 1\n",
    "\n",
    "# Get scroll height\n",
    "last_height = driver.execute_script(\"return document.body.scrollHeight\")\n",
    "\n",
    "# Scrolling 20 times\n",
    "for i in range(3):\n",
    "    # Scroll down to bottom\n",
    "    driver.execute_script(\"window.scrollTo(0, document.body.scrollHeight);\")\n",
    "\n",
    "    # Wait to load page\n",
    "    time.sleep(SCROLL_PAUSE_TIME)\n",
    "\n",
    "    # Calculate new scroll height and compare with last scroll height\n",
    "    new_height = driver.execute_script(\"return document.body.scrollHeight\")\n",
    "    if new_height == last_height:\n",
    "        break\n",
    "    last_height = new_height\n",
    "    print(i)"
   ]
  },
  {
   "cell_type": "markdown",
   "metadata": {},
   "source": [
    "### picking elements"
   ]
  },
  {
   "cell_type": "code",
   "execution_count": null,
   "metadata": {},
   "outputs": [],
   "source": [
    "main_window = driver.current_window_handle\n",
    "items = driver.find_elements(By.CLASS_NAME, 'video-feed-item')\n",
    "i = 0\n",
    "for post in items:\n",
    "    i += 1\n",
    "    # Picking post elements\n",
    "    user_id = post.find_element_by_class_name('author-uniqueId').text\n",
    "    try:\n",
    "        title = post.find_element(By.CLASS_NAME, 'item-meta-title')\n",
    "    except NoSuchElementException:\n",
    "        post_desc = ''\n",
    "    else:\n",
    "        title = title.find_elements_by_xpath('.//strong')\n",
    "        post_desc = ' '.join([el.text for el in title])\n",
    "    song = post.find_element(By.CLASS_NAME, 'music-title-decoration').text\n",
    "    nb_likes = post.find_element_by_css_selector(\"[title^='like']\").text\n",
    "    nb_comments = post.find_element_by_css_selector(\"[title^='comment']\").text\n",
    "    nb_shares = post.find_element_by_css_selector(\"[title^='share']\").text\n",
    "\n",
    "    # Appending post info to post df\n",
    "    posts_df = posts_df.append(pd.DataFrame([[user_id, post_desc, song, nb_likes, nb_comments, nb_shares]], columns\n",
    "    =posts_df.columns))\n",
    "    \n",
    "    # switching to the user page\n",
    "    driver.execute_script(\"window.open('http://www.tiktok.com/@{}', 'new_window')\".format(user_id))\n",
    "    WebDriverWait(driver, 10).until(EC.number_of_windows_to_be(2))\n",
    "    driver.switch_to.window(driver.window_handles[1])\n",
    "    try:\n",
    "        WebDriverWait(driver, 20).until(EC.presence_of_element_located((By.CLASS_NAME, \"share-desc\")))\n",
    "    except TimeoutException:\n",
    "        driver.close()\n",
    "        driver.switch_to.window(main_window)\n",
    "        print(i)\n",
    "        continue\n",
    "    \n",
    "    # getting the user info\n",
    "    try:\n",
    "        user_desc = driver.find_element(By.CLASS_NAME, 'share-desc').text\n",
    "    except NoSuchElementException:\n",
    "        user_desc = ''\n",
    "        \n",
    "    try:\n",
    "        nb_followings = driver.find_element_by_css_selector(\"[title^='Followings']\").text\n",
    "        \n",
    "    except NoSuchElementException:\n",
    "        nb_followings = driver.find_element_by_css_selector(\"[title^='Following']\").text\n",
    "    \n",
    "    nb_followers = driver.find_element_by_css_selector(\"[title^='Followers']\").text\n",
    "\n",
    "    nb_likes = driver.find_element_by_css_selector(\"[title^='Likes']\").text\n",
    "    \n",
    "    # Appending user info to user df\n",
    "    users_df = users_df.append(pd.DataFrame([[user_id, user_desc, nb_followings, nb_followers, nb_likes]], columns\n",
    "    =users_df.columns))\n",
    "    \n",
    "    # closing the user page \n",
    "    driver.close()\n",
    "    driver.switch_to.window(main_window)\n",
    "    print(i)"
   ]
  },
  {
   "cell_type": "code",
   "execution_count": null,
   "metadata": {},
   "outputs": [],
   "source": [
    "posts_df"
   ]
  },
  {
   "cell_type": "code",
   "execution_count": null,
   "metadata": {},
   "outputs": [],
   "source": [
    "users_df"
   ]
  },
  {
   "cell_type": "code",
   "execution_count": null,
   "metadata": {},
   "outputs": [],
   "source": [
    "driver.close()"
   ]
  },
  {
   "cell_type": "code",
   "execution_count": null,
   "metadata": {},
   "outputs": [],
   "source": []
  }
 ],
 "metadata": {
  "kernelspec": {
   "display_name": "Python 3",
   "language": "python",
   "name": "python3"
  },
  "language_info": {
   "codemirror_mode": {
    "name": "ipython",
    "version": 3
   },
   "file_extension": ".py",
   "mimetype": "text/x-python",
   "name": "python",
   "nbconvert_exporter": "python",
   "pygments_lexer": "ipython3",
   "version": "3.6.8"
  }
 },
 "nbformat": 4,
 "nbformat_minor": 2
}
