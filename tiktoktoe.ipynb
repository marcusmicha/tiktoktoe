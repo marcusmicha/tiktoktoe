{
 "cells": [
  {
   "cell_type": "markdown",
   "metadata": {},
   "source": [
    "# TikTok scraper\n",
    "Scrape tiktok trending page and extract posts information"
   ]
  },
  {
   "cell_type": "markdown",
   "metadata": {},
   "source": [
    "  ### Imports"
   ]
  },
  {
   "cell_type": "code",
   "execution_count": 19,
   "metadata": {},
   "outputs": [],
   "source": [
    "from selenium import webdriver\n",
    "from selenium.webdriver.common.keys import Keys\n",
    "from selenium.webdriver.common.by import By\n",
    "from selenium.common.exceptions import NoSuchElementException\n",
    "\n",
    "\n",
    "import pandas as pd"
   ]
  },
  {
   "cell_type": "markdown",
   "metadata": {},
   "source": [
    "### Setting up the dataframes"
   ]
  },
  {
   "cell_type": "code",
   "execution_count": 2,
   "metadata": {},
   "outputs": [],
   "source": [
    "posts_columns =  ['author_id', 'title', 'song', 'nb_likes', 'nb_comments', 'nb_shares']\n",
    "posts_df  = pd.DataFrame(columns = posts_columns)"
   ]
  },
  {
   "cell_type": "markdown",
   "metadata": {},
   "source": [
    "### Setting up the scraper"
   ]
  },
  {
   "cell_type": "code",
   "execution_count": 22,
   "metadata": {},
   "outputs": [],
   "source": [
    "driver = webdriver.Chrome(r\"/Users/michaelmarcus/Desktop/ITC/Track/Projects/Tiktoktoe/chromedriver\")\n",
    "driver.get(\"https://www.tiktok.com/trending\")"
   ]
  },
  {
   "cell_type": "markdown",
   "metadata": {},
   "source": [
    "### Scraping data once"
   ]
  },
  {
   "cell_type": "code",
   "execution_count": 23,
   "metadata": {},
   "outputs": [
    {
     "data": {
      "text/html": [
       "<div>\n",
       "<style scoped>\n",
       "    .dataframe tbody tr th:only-of-type {\n",
       "        vertical-align: middle;\n",
       "    }\n",
       "\n",
       "    .dataframe tbody tr th {\n",
       "        vertical-align: top;\n",
       "    }\n",
       "\n",
       "    .dataframe thead th {\n",
       "        text-align: right;\n",
       "    }\n",
       "</style>\n",
       "<table border=\"1\" class=\"dataframe\">\n",
       "  <thead>\n",
       "    <tr style=\"text-align: right;\">\n",
       "      <th></th>\n",
       "      <th>author_id</th>\n",
       "      <th>title</th>\n",
       "      <th>song</th>\n",
       "      <th>nb_likes</th>\n",
       "      <th>nb_comments</th>\n",
       "      <th>nb_shares</th>\n",
       "    </tr>\n",
       "  </thead>\n",
       "  <tbody>\n",
       "    <tr>\n",
       "      <th>0</th>\n",
       "      <td>xkilernd</td>\n",
       "      <td>#foryou 😎😎</td>\n",
       "      <td>Wiggle (Onderkoffer Remix) - Jason Derulo &amp; Sn...</td>\n",
       "      <td>84.2K</td>\n",
       "      <td>337</td>\n",
       "      <td>540</td>\n",
       "    </tr>\n",
       "    <tr>\n",
       "      <th>0</th>\n",
       "      <td></td>\n",
       "      <td>😎😎</td>\n",
       "      <td>Wiggle (Onderkoffer Remix) - Jason Derulo &amp; Sn...</td>\n",
       "      <td>84.2K</td>\n",
       "      <td>337</td>\n",
       "      <td>540</td>\n",
       "    </tr>\n",
       "    <tr>\n",
       "      <th>0</th>\n",
       "      <td>e.baby_</td>\n",
       "      <td>אני בוכההה</td>\n",
       "      <td>Party Girl - StaySolidRocky</td>\n",
       "      <td>84.2K</td>\n",
       "      <td>337</td>\n",
       "      <td>540</td>\n",
       "    </tr>\n",
       "    <tr>\n",
       "      <th>0</th>\n",
       "      <td>brycehall</td>\n",
       "      <td>@addisonre  @itstaylerholder</td>\n",
       "      <td>original sound - priscilavillelaa</td>\n",
       "      <td>84.2K</td>\n",
       "      <td>337</td>\n",
       "      <td>540</td>\n",
       "    </tr>\n",
       "    <tr>\n",
       "      <th>0</th>\n",
       "      <td>snir.asor</td>\n",
       "      <td>לא ללמןד ממנו טלפון בנהיגה פשוט חוצפה מה שקורה פה</td>\n",
       "      <td>sonido original - marinaamg_</td>\n",
       "      <td>11K</td>\n",
       "      <td>191</td>\n",
       "      <td>259</td>\n",
       "    </tr>\n",
       "    <tr>\n",
       "      <th>...</th>\n",
       "      <td>...</td>\n",
       "      <td>...</td>\n",
       "      <td>...</td>\n",
       "      <td>...</td>\n",
       "      <td>...</td>\n",
       "      <td>...</td>\n",
       "    </tr>\n",
       "    <tr>\n",
       "      <th>0</th>\n",
       "      <td>gayabellti1</td>\n",
       "      <td>קליטה של צב🥐🤠</td>\n",
       "      <td>original sound - gayabellti1</td>\n",
       "      <td>93.9K</td>\n",
       "      <td>470</td>\n",
       "      <td>9932</td>\n",
       "    </tr>\n",
       "    <tr>\n",
       "      <th>0</th>\n",
       "      <td>ageofleo</td>\n",
       "      <td>Rate my brows 👁 #foryou  #tiktokfashion  #beau...</td>\n",
       "      <td>dźwięk oryginalny - ukwozniakk</td>\n",
       "      <td>93.9K</td>\n",
       "      <td>470</td>\n",
       "      <td>9932</td>\n",
       "    </tr>\n",
       "    <tr>\n",
       "      <th>0</th>\n",
       "      <td>khaledelasal67</td>\n",
       "      <td></td>\n",
       "      <td>צליל מקורי - khaledelasal67</td>\n",
       "      <td>93.9K</td>\n",
       "      <td>470</td>\n",
       "      <td>9932</td>\n",
       "    </tr>\n",
       "    <tr>\n",
       "      <th>0</th>\n",
       "      <td>massarwi__</td>\n",
       "      <td>#corvete  #gsxr1000  #foryou  #foyou  #coronav...</td>\n",
       "      <td>Original Sound - Unknown</td>\n",
       "      <td>93.9K</td>\n",
       "      <td>470</td>\n",
       "      <td>9932</td>\n",
       "    </tr>\n",
       "    <tr>\n",
       "      <th>0</th>\n",
       "      <td>kittycatclaws</td>\n",
       "      <td>What the heck ... #cat k #kitty  #viral</td>\n",
       "      <td>original sound - wikinggs</td>\n",
       "      <td>93.9K</td>\n",
       "      <td>470</td>\n",
       "      <td>9932</td>\n",
       "    </tr>\n",
       "  </tbody>\n",
       "</table>\n",
       "<p>63 rows × 6 columns</p>\n",
       "</div>"
      ],
      "text/plain": [
       "         author_id                                              title  \\\n",
       "0         xkilernd                                         #foryou 😎😎   \n",
       "0                                                                  😎😎   \n",
       "0          e.baby_                                         אני בוכההה   \n",
       "0        brycehall                       @addisonre  @itstaylerholder   \n",
       "0        snir.asor  לא ללמןד ממנו טלפון בנהיגה פשוט חוצפה מה שקורה פה   \n",
       "..             ...                                                ...   \n",
       "0      gayabellti1                                      קליטה של צב🥐🤠   \n",
       "0         ageofleo  Rate my brows 👁 #foryou  #tiktokfashion  #beau...   \n",
       "0   khaledelasal67                                                      \n",
       "0       massarwi__  #corvete  #gsxr1000  #foryou  #foyou  #coronav...   \n",
       "0    kittycatclaws            What the heck ... #cat k #kitty  #viral   \n",
       "\n",
       "                                                 song nb_likes nb_comments  \\\n",
       "0   Wiggle (Onderkoffer Remix) - Jason Derulo & Sn...    84.2K         337   \n",
       "0   Wiggle (Onderkoffer Remix) - Jason Derulo & Sn...    84.2K         337   \n",
       "0                         Party Girl - StaySolidRocky    84.2K         337   \n",
       "0                   original sound - priscilavillelaa    84.2K         337   \n",
       "0                        sonido original - marinaamg_      11K         191   \n",
       "..                                                ...      ...         ...   \n",
       "0                        original sound - gayabellti1    93.9K         470   \n",
       "0                      dźwięk oryginalny - ukwozniakk    93.9K         470   \n",
       "0                         צליל מקורי - khaledelasal67    93.9K         470   \n",
       "0                            Original Sound - Unknown    93.9K         470   \n",
       "0                           original sound - wikinggs    93.9K         470   \n",
       "\n",
       "   nb_shares  \n",
       "0        540  \n",
       "0        540  \n",
       "0        540  \n",
       "0        540  \n",
       "0        259  \n",
       "..       ...  \n",
       "0       9932  \n",
       "0       9932  \n",
       "0       9932  \n",
       "0       9932  \n",
       "0       9932  \n",
       "\n",
       "[63 rows x 6 columns]"
      ]
     },
     "execution_count": 23,
     "metadata": {},
     "output_type": "execute_result"
    }
   ],
   "source": [
    "items = driver.find_elements(By.CLASS_NAME, 'video-feed-item')\n",
    "for post in items:\n",
    "    author_id = post.find_element_by_class_name('author-uniqueId').text\n",
    "    try:\n",
    "        post_text = post.find_element(By.CLASS_NAME, 'item-meta-title')\n",
    "    except NoSuchElementException:\n",
    "        title = ''\n",
    "    else:\n",
    "        post_text = post_text.find_elements_by_xpath('.//strong')\n",
    "        title = ' '.join([el.text for el in post_text])\n",
    "    song = post.find_element(By.CLASS_NAME, 'music-title-decoration').text\n",
    "    nb_likes = post.find_element_by_xpath('//strong[@title=\"like\"]').text\n",
    "    nb_comments = post.find_element_by_xpath('//strong[@title=\"comment\"]').text\n",
    "    nb_shares = post.find_element_by_xpath('//strong[@title=\"share\"]').text\n",
    "\n",
    "    #Saving to df\n",
    "    posts_df = posts_df.append(pd.DataFrame([[author_id, title, song, nb_likes, nb_comments, nb_shares]], columns\n",
    "    =posts_df.columns))\n",
    "posts_df"
   ]
  },
  {
   "cell_type": "code",
   "execution_count": 5,
   "metadata": {},
   "outputs": [
    {
     "ename": "NoSuchWindowException",
     "evalue": "Message: no such window: target window already closed\nfrom unknown error: web view not found\n  (Session info: chrome=83.0.4103.97)\n",
     "output_type": "error",
     "traceback": [
      "\u001b[0;31m---------------------------------------------------------------------------\u001b[0m",
      "\u001b[0;31mNoSuchWindowException\u001b[0m                     Traceback (most recent call last)",
      "\u001b[0;32m<ipython-input-5-ad0c9a213c39>\u001b[0m in \u001b[0;36m<module>\u001b[0;34m\u001b[0m\n\u001b[0;32m----> 1\u001b[0;31m \u001b[0mdriver\u001b[0m\u001b[0;34m.\u001b[0m\u001b[0mclose\u001b[0m\u001b[0;34m(\u001b[0m\u001b[0;34m)\u001b[0m\u001b[0;34m\u001b[0m\u001b[0;34m\u001b[0m\u001b[0m\n\u001b[0m",
      "\u001b[0;32m~/anaconda3/lib/python3.6/site-packages/selenium/webdriver/remote/webdriver.py\u001b[0m in \u001b[0;36mclose\u001b[0;34m(self)\u001b[0m\n\u001b[1;32m    686\u001b[0m             \u001b[0mdriver\u001b[0m\u001b[0;34m.\u001b[0m\u001b[0mclose\u001b[0m\u001b[0;34m(\u001b[0m\u001b[0;34m)\u001b[0m\u001b[0;34m\u001b[0m\u001b[0;34m\u001b[0m\u001b[0m\n\u001b[1;32m    687\u001b[0m         \"\"\"\n\u001b[0;32m--> 688\u001b[0;31m         \u001b[0mself\u001b[0m\u001b[0;34m.\u001b[0m\u001b[0mexecute\u001b[0m\u001b[0;34m(\u001b[0m\u001b[0mCommand\u001b[0m\u001b[0;34m.\u001b[0m\u001b[0mCLOSE\u001b[0m\u001b[0;34m)\u001b[0m\u001b[0;34m\u001b[0m\u001b[0;34m\u001b[0m\u001b[0m\n\u001b[0m\u001b[1;32m    689\u001b[0m \u001b[0;34m\u001b[0m\u001b[0m\n\u001b[1;32m    690\u001b[0m     \u001b[0;32mdef\u001b[0m \u001b[0mquit\u001b[0m\u001b[0;34m(\u001b[0m\u001b[0mself\u001b[0m\u001b[0;34m)\u001b[0m\u001b[0;34m:\u001b[0m\u001b[0;34m\u001b[0m\u001b[0;34m\u001b[0m\u001b[0m\n",
      "\u001b[0;32m~/anaconda3/lib/python3.6/site-packages/selenium/webdriver/remote/webdriver.py\u001b[0m in \u001b[0;36mexecute\u001b[0;34m(self, driver_command, params)\u001b[0m\n\u001b[1;32m    319\u001b[0m         \u001b[0mresponse\u001b[0m \u001b[0;34m=\u001b[0m \u001b[0mself\u001b[0m\u001b[0;34m.\u001b[0m\u001b[0mcommand_executor\u001b[0m\u001b[0;34m.\u001b[0m\u001b[0mexecute\u001b[0m\u001b[0;34m(\u001b[0m\u001b[0mdriver_command\u001b[0m\u001b[0;34m,\u001b[0m \u001b[0mparams\u001b[0m\u001b[0;34m)\u001b[0m\u001b[0;34m\u001b[0m\u001b[0;34m\u001b[0m\u001b[0m\n\u001b[1;32m    320\u001b[0m         \u001b[0;32mif\u001b[0m \u001b[0mresponse\u001b[0m\u001b[0;34m:\u001b[0m\u001b[0;34m\u001b[0m\u001b[0;34m\u001b[0m\u001b[0m\n\u001b[0;32m--> 321\u001b[0;31m             \u001b[0mself\u001b[0m\u001b[0;34m.\u001b[0m\u001b[0merror_handler\u001b[0m\u001b[0;34m.\u001b[0m\u001b[0mcheck_response\u001b[0m\u001b[0;34m(\u001b[0m\u001b[0mresponse\u001b[0m\u001b[0;34m)\u001b[0m\u001b[0;34m\u001b[0m\u001b[0;34m\u001b[0m\u001b[0m\n\u001b[0m\u001b[1;32m    322\u001b[0m             response['value'] = self._unwrap_value(\n\u001b[1;32m    323\u001b[0m                 response.get('value', None))\n",
      "\u001b[0;32m~/anaconda3/lib/python3.6/site-packages/selenium/webdriver/remote/errorhandler.py\u001b[0m in \u001b[0;36mcheck_response\u001b[0;34m(self, response)\u001b[0m\n\u001b[1;32m    240\u001b[0m                 \u001b[0malert_text\u001b[0m \u001b[0;34m=\u001b[0m \u001b[0mvalue\u001b[0m\u001b[0;34m[\u001b[0m\u001b[0;34m'alert'\u001b[0m\u001b[0;34m]\u001b[0m\u001b[0;34m.\u001b[0m\u001b[0mget\u001b[0m\u001b[0;34m(\u001b[0m\u001b[0;34m'text'\u001b[0m\u001b[0;34m)\u001b[0m\u001b[0;34m\u001b[0m\u001b[0;34m\u001b[0m\u001b[0m\n\u001b[1;32m    241\u001b[0m             \u001b[0;32mraise\u001b[0m \u001b[0mexception_class\u001b[0m\u001b[0;34m(\u001b[0m\u001b[0mmessage\u001b[0m\u001b[0;34m,\u001b[0m \u001b[0mscreen\u001b[0m\u001b[0;34m,\u001b[0m \u001b[0mstacktrace\u001b[0m\u001b[0;34m,\u001b[0m \u001b[0malert_text\u001b[0m\u001b[0;34m)\u001b[0m\u001b[0;34m\u001b[0m\u001b[0;34m\u001b[0m\u001b[0m\n\u001b[0;32m--> 242\u001b[0;31m         \u001b[0;32mraise\u001b[0m \u001b[0mexception_class\u001b[0m\u001b[0;34m(\u001b[0m\u001b[0mmessage\u001b[0m\u001b[0;34m,\u001b[0m \u001b[0mscreen\u001b[0m\u001b[0;34m,\u001b[0m \u001b[0mstacktrace\u001b[0m\u001b[0;34m)\u001b[0m\u001b[0;34m\u001b[0m\u001b[0;34m\u001b[0m\u001b[0m\n\u001b[0m\u001b[1;32m    243\u001b[0m \u001b[0;34m\u001b[0m\u001b[0m\n\u001b[1;32m    244\u001b[0m     \u001b[0;32mdef\u001b[0m \u001b[0m_value_or_default\u001b[0m\u001b[0;34m(\u001b[0m\u001b[0mself\u001b[0m\u001b[0;34m,\u001b[0m \u001b[0mobj\u001b[0m\u001b[0;34m,\u001b[0m \u001b[0mkey\u001b[0m\u001b[0;34m,\u001b[0m \u001b[0mdefault\u001b[0m\u001b[0;34m)\u001b[0m\u001b[0;34m:\u001b[0m\u001b[0;34m\u001b[0m\u001b[0;34m\u001b[0m\u001b[0m\n",
      "\u001b[0;31mNoSuchWindowException\u001b[0m: Message: no such window: target window already closed\nfrom unknown error: web view not found\n  (Session info: chrome=83.0.4103.97)\n"
     ]
    }
   ],
   "source": [
    "driver.close()"
   ]
  }
 ],
 "metadata": {
  "kernelspec": {
   "display_name": "Python 3",
   "language": "python",
   "name": "python3"
  },
  "language_info": {
   "codemirror_mode": {
    "name": "ipython",
    "version": 3
   },
   "file_extension": ".py",
   "mimetype": "text/x-python",
   "name": "python",
   "nbconvert_exporter": "python",
   "pygments_lexer": "ipython3",
   "version": "3.6.8"
  }
 },
 "nbformat": 4,
 "nbformat_minor": 2
}
