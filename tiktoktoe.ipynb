{
 "cells": [
  {
   "cell_type": "markdown",
   "metadata": {},
   "source": [
    "# TikTok scraper\n",
    "Scrape tiktok trending page and extract posts information"
   ]
  },
  {
   "cell_type": "markdown",
   "metadata": {},
   "source": [
    "  ## Imports"
   ]
  },
  {
   "cell_type": "code",
   "execution_count": 171,
   "metadata": {},
   "outputs": [],
   "source": [
    "from selenium import webdriver\n",
    "from selenium.webdriver.common.keys import Keys\n",
    "from selenium.webdriver.common.by import By\n",
    "from selenium.common.exceptions import NoSuchElementException\n",
    "from selenium.webdriver.chrome.options import Options\n",
    "from selenium.webdriver.common.keys import Keys\n",
    "\n",
    "import time\n",
    "import pandas as pd"
   ]
  },
  {
   "cell_type": "markdown",
   "metadata": {},
   "source": [
    "## Setting up the dataframes"
   ]
  },
  {
   "cell_type": "code",
   "execution_count": 172,
   "metadata": {},
   "outputs": [],
   "source": [
    "posts_columns =  ['author_id', 'title', 'song', 'nb_likes', 'nb_comments', 'nb_shares']\n",
    "posts_df  = pd.DataFrame(columns = posts_columns)"
   ]
  },
  {
   "cell_type": "markdown",
   "metadata": {},
   "source": [
    "## Setting up the scraper"
   ]
  },
  {
   "cell_type": "code",
   "execution_count": 174,
   "metadata": {},
   "outputs": [],
   "source": [
    "chrome_options = webdriver.ChromeOptions()\n",
    "#chrome_options.add_argument(\"--headless\")\n",
    "#chrome_options.add_argument(\"--window-size=1920,1080\")\n",
    "chrome_options.add_argument(\"user-agent='Googlebot'\")\n",
    "driver = webdriver.Chrome(r\"./chromedriver\", options=chrome_options)\n",
    "driver.get(\"https://www.tiktok.com/trending\")"
   ]
  },
  {
   "cell_type": "markdown",
   "metadata": {},
   "source": [
    "### Test"
   ]
  },
  {
   "cell_type": "code",
   "execution_count": null,
   "metadata": {},
   "outputs": [],
   "source": [
    "#name = driver.find_element_by_class_name('author-uniqueId').click()\n",
    "#newTab = driver.\n",
    "#driver.execute_script(\"window.open('http://www.tiktok.com/@{}', 'new_window')\".format(name))\n",
    "#print(driver.title)"
   ]
  },
  {
   "cell_type": "markdown",
   "metadata": {},
   "source": [
    "## Scraper"
   ]
  },
  {
   "cell_type": "markdown",
   "metadata": {},
   "source": [
    "### Scroll"
   ]
  },
  {
   "cell_type": "code",
   "execution_count": null,
   "metadata": {},
   "outputs": [],
   "source": [
    "SCROLL_PAUSE_TIME = 1\n",
    "\n",
    "# Get scroll height\n",
    "last_height = driver.execute_script(\"return document.body.scrollHeight\")\n",
    "\n",
    "# Scrolling 20 times\n",
    "for i in range(3):\n",
    "    # Scroll down to bottom\n",
    "    driver.execute_script(\"window.scrollTo(0, document.body.scrollHeight);\")\n",
    "\n",
    "    # Wait to load page\n",
    "    time.sleep(SCROLL_PAUSE_TIME)\n",
    "\n",
    "    # Calculate new scroll height and compare with last scroll height\n",
    "    new_height = driver.execute_script(\"return document.body.scrollHeight\")\n",
    "    if new_height == last_height:\n",
    "        break\n",
    "    last_height = new_height\n",
    "    print(i)"
   ]
  },
  {
   "cell_type": "markdown",
   "metadata": {},
   "source": [
    "### picking elements"
   ]
  },
  {
   "cell_type": "code",
   "execution_count": null,
   "metadata": {},
   "outputs": [],
   "source": [
    "items = driver.find_elements(By.CLASS_NAME, 'video-feed-item')\n",
    "i = 0\n",
    "for post in items:\n",
    "    i += 1\n",
    "    # Picking post elements\n",
    "    author_id = post.find_element_by_class_name('author-uniqueId').text\n",
    "    try:\n",
    "        post_text = post.find_element(By.CLASS_NAME, 'item-meta-title')\n",
    "    except NoSuchElementException:\n",
    "        title = ''\n",
    "    else:\n",
    "        post_text = post_text.find_elements_by_xpath('.//strong')\n",
    "        title = ' '.join([el.text for el in post_text])\n",
    "    song = post.find_element(By.CLASS_NAME, 'music-title-decoration').text\n",
    "    nb_likes = post.find_element_by_css_selector(\"[title^='like']\").text\n",
    "    nb_comments = post.find_element_by_css_selector(\"[title^='comment']\").text\n",
    "    nb_shares = post.find_element_by_css_selector(\"[title^='share']\").text\n",
    "\n",
    "    # Appending post info to df\n",
    "    posts_df = posts_df.append(pd.DataFrame([[author_id, title, song, nb_likes, nb_comments, nb_shares]], columns\n",
    "    =posts_df.columns))\n",
    "    \n",
    "    # getting user info\n",
    "    \n",
    "    print(i)\n",
    "posts_df"
   ]
  },
  {
   "cell_type": "code",
   "execution_count": null,
   "metadata": {},
   "outputs": [],
   "source": [
    "driver.close()"
   ]
  },
  {
   "cell_type": "code",
   "execution_count": null,
   "metadata": {},
   "outputs": [],
   "source": []
  }
 ],
 "metadata": {
  "kernelspec": {
   "display_name": "Python 3",
   "language": "python",
   "name": "python3"
  },
  "language_info": {
   "codemirror_mode": {
    "name": "ipython",
    "version": 3
   },
   "file_extension": ".py",
   "mimetype": "text/x-python",
   "name": "python",
   "nbconvert_exporter": "python",
   "pygments_lexer": "ipython3",
   "version": "3.6.8"
  }
 },
 "nbformat": 4,
 "nbformat_minor": 2
}
