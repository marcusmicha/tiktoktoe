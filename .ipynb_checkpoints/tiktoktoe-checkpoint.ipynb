{
 "cells": [
  {
   "cell_type": "markdown",
   "metadata": {},
   "source": [
    "# TikTok scraper\n",
    "Scrape tiktok trending page and extract posts information"
   ]
  },
  {
   "cell_type": "markdown",
   "metadata": {},
   "source": [
    "  ### Imports"
   ]
  },
  {
   "cell_type": "code",
   "execution_count": 9,
   "metadata": {},
   "outputs": [],
   "source": [
    "from selenium import webdriver\n",
    "from selenium.webdriver.common.keys import Keys\n",
    "from selenium.webdriver.common.by import By\n",
    "from selenium.common.exceptions import NoSuchElementException\n",
    "import time\n",
    "\n",
    "\n",
    "import pandas as pd"
   ]
  },
  {
   "cell_type": "markdown",
   "metadata": {},
   "source": [
    "### Setting up the dataframes"
   ]
  },
  {
   "cell_type": "code",
   "execution_count": 10,
   "metadata": {},
   "outputs": [],
   "source": [
    "posts_columns =  ['author_id', 'title', 'song', 'nb_likes', 'nb_comments', 'nb_shares']\n",
    "posts_df  = pd.DataFrame(columns = posts_columns)"
   ]
  },
  {
   "cell_type": "markdown",
   "metadata": {},
   "source": [
    "### Setting up the scraper"
   ]
  },
  {
   "cell_type": "code",
   "execution_count": 24,
   "metadata": {},
   "outputs": [],
   "source": [
    "driver = webdriver.Chrome(r\"/Users/michaelmarcus/Desktop/ITC/Track/Projects/Tiktoktoe/chromedriver\")\n",
    "driver.get(\"https://www.tiktok.com/trending\")"
   ]
  },
  {
   "cell_type": "markdown",
   "metadata": {},
   "source": [
    "### Scraping data once"
   ]
  },
  {
   "cell_type": "code",
   "execution_count": 25,
   "metadata": {},
   "outputs": [],
   "source": [
    "SCROLL_PAUSE_TIME = 1\n",
    "\n",
    "# Get scroll height\n",
    "last_height = driver.execute_script(\"return document.body.scrollHeight\")\n",
    "\n",
    "# Scrolling 5 times\n",
    "for i in range(5):\n",
    "    # Scroll down to bottom\n",
    "    driver.execute_script(\"window.scrollTo(0, document.body.scrollHeight);\")\n",
    "\n",
    "    # Wait to load page\n",
    "    time.sleep(SCROLL_PAUSE_TIME)\n",
    "\n",
    "    # Calculate new scroll height and compare with last scroll height\n",
    "    new_height = driver.execute_script(\"return document.body.scrollHeight\")\n",
    "    if new_height == last_height:\n",
    "        break\n",
    "    last_height = new_height"
   ]
  },
  {
   "cell_type": "code",
   "execution_count": 26,
   "metadata": {},
   "outputs": [
    {
     "data": {
      "text/html": [
       "<div>\n",
       "<style scoped>\n",
       "    .dataframe tbody tr th:only-of-type {\n",
       "        vertical-align: middle;\n",
       "    }\n",
       "\n",
       "    .dataframe tbody tr th {\n",
       "        vertical-align: top;\n",
       "    }\n",
       "\n",
       "    .dataframe thead th {\n",
       "        text-align: right;\n",
       "    }\n",
       "</style>\n",
       "<table border=\"1\" class=\"dataframe\">\n",
       "  <thead>\n",
       "    <tr style=\"text-align: right;\">\n",
       "      <th></th>\n",
       "      <th>author_id</th>\n",
       "      <th>title</th>\n",
       "      <th>song</th>\n",
       "      <th>nb_likes</th>\n",
       "      <th>nb_comments</th>\n",
       "      <th>nb_shares</th>\n",
       "    </tr>\n",
       "  </thead>\n",
       "  <tbody>\n",
       "    <tr>\n",
       "      <th>0</th>\n",
       "      <td>natalikhoury2</td>\n",
       "      <td>#foryou  #kinder  #kinderbueno  #chocolate  #i...</td>\n",
       "      <td>Laxed (Siren Beat) - Jawsh 685</td>\n",
       "      <td>93.9K</td>\n",
       "      <td>470</td>\n",
       "      <td>9934</td>\n",
       "    </tr>\n",
       "    <tr>\n",
       "      <th>0</th>\n",
       "      <td>ibrahimflefeil1</td>\n",
       "      <td></td>\n",
       "      <td>original sound - abutaimfleifel93</td>\n",
       "      <td>93.9K</td>\n",
       "      <td>470</td>\n",
       "      <td>9934</td>\n",
       "    </tr>\n",
       "    <tr>\n",
       "      <th>0</th>\n",
       "      <td>itsceyandjai</td>\n",
       "      <td>Just kidding 🤣😘</td>\n",
       "      <td>original sound - irene.paris</td>\n",
       "      <td>93.9K</td>\n",
       "      <td>470</td>\n",
       "      <td>9934</td>\n",
       "    </tr>\n",
       "    <tr>\n",
       "      <th>0</th>\n",
       "      <td>ofermymon</td>\n",
       "      <td></td>\n",
       "      <td>Banana (feat. Shaggy) - Conkarah</td>\n",
       "      <td>93.9K</td>\n",
       "      <td>470</td>\n",
       "      <td>9934</td>\n",
       "    </tr>\n",
       "    <tr>\n",
       "      <th>0</th>\n",
       "      <td>טלל</td>\n",
       "      <td>נימאס כבר מהסטיגמות #שמנה  #foyou # #toolong</td>\n",
       "      <td>Follow me - couple.video</td>\n",
       "      <td>93.9K</td>\n",
       "      <td>470</td>\n",
       "      <td>9934</td>\n",
       "    </tr>\n",
       "    <tr>\n",
       "      <th>...</th>\n",
       "      <td>...</td>\n",
       "      <td>...</td>\n",
       "      <td>...</td>\n",
       "      <td>...</td>\n",
       "      <td>...</td>\n",
       "      <td>...</td>\n",
       "    </tr>\n",
       "    <tr>\n",
       "      <th>0</th>\n",
       "      <td>crazyymood</td>\n",
       "      <td>Do you like candy?? 🍭 #challenge  #rainbow  #f...</td>\n",
       "      <td>Banana (feat. Shaggy) - Conkarah</td>\n",
       "      <td>93.9K</td>\n",
       "      <td>470</td>\n",
       "      <td>9934</td>\n",
       "    </tr>\n",
       "    <tr>\n",
       "      <th>0</th>\n",
       "      <td>solarsmarthomeniitech</td>\n",
       "      <td>Đèn led cầu thang thông minh, có ai soi thấy g...</td>\n",
       "      <td>Ai lấy thì ghi nguồn hộ - ⚡Zenitsu⚡</td>\n",
       "      <td>93.9K</td>\n",
       "      <td>470</td>\n",
       "      <td>9934</td>\n",
       "    </tr>\n",
       "    <tr>\n",
       "      <th>0</th>\n",
       "      <td>eliyapitkis</td>\n",
       "      <td>Write your name backwards 🤪😉 #foryоu  #joke  #...</td>\n",
       "      <td>original sound - laidbackregularguy</td>\n",
       "      <td>93.9K</td>\n",
       "      <td>470</td>\n",
       "      <td>9934</td>\n",
       "    </tr>\n",
       "    <tr>\n",
       "      <th>0</th>\n",
       "      <td>lliel_massa</td>\n",
       "      <td>בסך הכל שעה נורמלית לעשות את זה #foruyou  #for...</td>\n",
       "      <td>Sunday Best by Surfaces - rapidsongs</td>\n",
       "      <td>93.9K</td>\n",
       "      <td>470</td>\n",
       "      <td>9934</td>\n",
       "    </tr>\n",
       "    <tr>\n",
       "      <th>0</th>\n",
       "      <td>wiiiiinawdynt02</td>\n",
       "      <td>Eh kan kan🤣 #fyp  #fypシ  #tiktokindo  #foryoup...</td>\n",
       "      <td>Bila bermimpi kamu versi chipmunk - niksonmahe...</td>\n",
       "      <td>93.9K</td>\n",
       "      <td>470</td>\n",
       "      <td>9934</td>\n",
       "    </tr>\n",
       "  </tbody>\n",
       "</table>\n",
       "<p>114 rows × 6 columns</p>\n",
       "</div>"
      ],
      "text/plain": [
       "                author_id                                              title  \\\n",
       "0           natalikhoury2  #foryou  #kinder  #kinderbueno  #chocolate  #i...   \n",
       "0         ibrahimflefeil1                                                      \n",
       "0            itsceyandjai                                    Just kidding 🤣😘   \n",
       "0               ofermymon                                                      \n",
       "0                     טלל       נימאס כבר מהסטיגמות #שמנה  #foyou # #toolong   \n",
       "..                    ...                                                ...   \n",
       "0              crazyymood  Do you like candy?? 🍭 #challenge  #rainbow  #f...   \n",
       "0   solarsmarthomeniitech  Đèn led cầu thang thông minh, có ai soi thấy g...   \n",
       "0             eliyapitkis  Write your name backwards 🤪😉 #foryоu  #joke  #...   \n",
       "0             lliel_massa  בסך הכל שעה נורמלית לעשות את זה #foruyou  #for...   \n",
       "0         wiiiiinawdynt02  Eh kan kan🤣 #fyp  #fypシ  #tiktokindo  #foryoup...   \n",
       "\n",
       "                                                 song nb_likes nb_comments  \\\n",
       "0                      Laxed (Siren Beat) - Jawsh 685    93.9K         470   \n",
       "0                   original sound - abutaimfleifel93    93.9K         470   \n",
       "0                        original sound - irene.paris    93.9K         470   \n",
       "0                    Banana (feat. Shaggy) - Conkarah    93.9K         470   \n",
       "0                            Follow me - couple.video    93.9K         470   \n",
       "..                                                ...      ...         ...   \n",
       "0                    Banana (feat. Shaggy) - Conkarah    93.9K         470   \n",
       "0                 Ai lấy thì ghi nguồn hộ - ⚡Zenitsu⚡    93.9K         470   \n",
       "0                 original sound - laidbackregularguy    93.9K         470   \n",
       "0                Sunday Best by Surfaces - rapidsongs    93.9K         470   \n",
       "0   Bila bermimpi kamu versi chipmunk - niksonmahe...    93.9K         470   \n",
       "\n",
       "   nb_shares  \n",
       "0       9934  \n",
       "0       9934  \n",
       "0       9934  \n",
       "0       9934  \n",
       "0       9934  \n",
       "..       ...  \n",
       "0       9934  \n",
       "0       9934  \n",
       "0       9934  \n",
       "0       9934  \n",
       "0       9934  \n",
       "\n",
       "[114 rows x 6 columns]"
      ]
     },
     "execution_count": 26,
     "metadata": {},
     "output_type": "execute_result"
    }
   ],
   "source": [
    "items = driver.find_elements(By.CLASS_NAME, 'video-feed-item')\n",
    "for post in items:\n",
    "    author_id = post.find_element_by_class_name('author-uniqueId').text\n",
    "    try:\n",
    "        post_text = post.find_element(By.CLASS_NAME, 'item-meta-title')\n",
    "    except NoSuchElementException:\n",
    "        title = ''\n",
    "    else:\n",
    "        post_text = post_text.find_elements_by_xpath('.//strong')\n",
    "        title = ' '.join([el.text for el in post_text])\n",
    "    song = post.find_element(By.CLASS_NAME, 'music-title-decoration').text\n",
    "    nb_likes = post.find_element_by_xpath('//strong[@title=\"like\"]').text\n",
    "    nb_comments = post.find_element_by_xpath('//strong[@title=\"comment\"]').text\n",
    "    nb_shares = post.find_element_by_xpath('//strong[@title=\"share\"]').text\n",
    "\n",
    "    #Saving to df\n",
    "    posts_df = posts_df.append(pd.DataFrame([[author_id, title, song, nb_likes, nb_comments, nb_shares]], columns\n",
    "    =posts_df.columns))\n",
    "posts_df"
   ]
  },
  {
   "cell_type": "code",
   "execution_count": 27,
   "metadata": {},
   "outputs": [],
   "source": [
    "driver.close()"
   ]
  },
  {
   "cell_type": "code",
   "execution_count": null,
   "metadata": {},
   "outputs": [],
   "source": []
  }
 ],
 "metadata": {
  "kernelspec": {
   "display_name": "Python 3",
   "language": "python",
   "name": "python3"
  },
  "language_info": {
   "codemirror_mode": {
    "name": "ipython",
    "version": 3
   },
   "file_extension": ".py",
   "mimetype": "text/x-python",
   "name": "python",
   "nbconvert_exporter": "python",
   "pygments_lexer": "ipython3",
   "version": "3.6.8"
  }
 },
 "nbformat": 4,
 "nbformat_minor": 2
}
