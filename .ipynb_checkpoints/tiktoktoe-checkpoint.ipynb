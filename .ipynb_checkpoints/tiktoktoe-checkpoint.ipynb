{
 "cells": [
  {
   "cell_type": "markdown",
   "metadata": {},
   "source": [
    "# TikTok scraper\n",
    "Scrape tiktok trending page and extract posts information"
   ]
  },
  {
   "cell_type": "markdown",
   "metadata": {},
   "source": [
    "  ## Imports"
   ]
  },
  {
   "cell_type": "code",
   "execution_count": 171,
   "metadata": {},
   "outputs": [],
   "source": [
    "from selenium import webdriver\n",
    "from selenium.webdriver.common.keys import Keys\n",
    "from selenium.webdriver.common.by import By\n",
    "from selenium.common.exceptions import NoSuchElementException\n",
    "from selenium.webdriver.chrome.options import Options\n",
    "from selenium.webdriver.common.keys import Keys\n",
    "\n",
    "import time\n",
    "import pandas as pd"
   ]
  },
  {
   "cell_type": "markdown",
   "metadata": {},
   "source": [
    "## Setting up the dataframes"
   ]
  },
  {
   "cell_type": "code",
   "execution_count": 172,
   "metadata": {},
   "outputs": [],
   "source": [
    "posts_columns =  ['author_id', 'title', 'song', 'nb_likes', 'nb_comments', 'nb_shares']\n",
    "posts_df  = pd.DataFrame(columns = posts_columns)"
   ]
  },
  {
   "cell_type": "markdown",
   "metadata": {},
   "source": [
    "## Setting up the scraper"
   ]
  },
  {
   "cell_type": "code",
   "execution_count": 174,
   "metadata": {},
   "outputs": [],
   "source": [
    "chrome_options = webdriver.ChromeOptions()\n",
    "#chrome_options.add_argument(\"--headless\")\n",
    "#chrome_options.add_argument(\"--window-size=1920,1080\")\n",
    "chrome_options.add_argument(\"user-agent='Googlebot'\")\n",
    "driver = webdriver.Chrome(r\"./chromedriver\", options=chrome_options)\n",
    "driver.get(\"https://www.tiktok.com/trending\")"
   ]
  },
  {
   "cell_type": "markdown",
   "metadata": {},
   "source": [
    "### Test"
   ]
  },
  {
   "cell_type": "code",
   "execution_count": 175,
   "metadata": {},
   "outputs": [
    {
     "name": "stdout",
     "output_type": "stream",
     "text": [
      "Trending Videos on TikTok\n"
     ]
    }
   ],
   "source": [
    "#name = driver.find_element_by_class_name('author-uniqueId').click()\n",
    "#newTab = driver.\n",
    "#driver.execute_script(\"window.open('http://www.tiktok.com/@{}', 'new_window')\".format(name))\n",
    "#print(driver.title)"
   ]
  },
  {
   "cell_type": "markdown",
   "metadata": {},
   "source": [
    "## Scraper"
   ]
  },
  {
   "cell_type": "markdown",
   "metadata": {},
   "source": [
    "### Scroll"
   ]
  },
  {
   "cell_type": "code",
   "execution_count": 112,
   "metadata": {},
   "outputs": [
    {
     "name": "stdout",
     "output_type": "stream",
     "text": [
      "0\n",
      "1\n",
      "2\n"
     ]
    }
   ],
   "source": [
    "SCROLL_PAUSE_TIME = 1\n",
    "\n",
    "# Get scroll height\n",
    "last_height = driver.execute_script(\"return document.body.scrollHeight\")\n",
    "\n",
    "# Scrolling 20 times\n",
    "for i in range(3):\n",
    "    # Scroll down to bottom\n",
    "    driver.execute_script(\"window.scrollTo(0, document.body.scrollHeight);\")\n",
    "\n",
    "    # Wait to load page\n",
    "    time.sleep(SCROLL_PAUSE_TIME)\n",
    "\n",
    "    # Calculate new scroll height and compare with last scroll height\n",
    "    new_height = driver.execute_script(\"return document.body.scrollHeight\")\n",
    "    if new_height == last_height:\n",
    "        break\n",
    "    last_height = new_height\n",
    "    print(i)"
   ]
  },
  {
   "cell_type": "markdown",
   "metadata": {},
   "source": [
    "### picking elements"
   ]
  },
  {
   "cell_type": "code",
   "execution_count": 113,
   "metadata": {},
   "outputs": [
    {
     "name": "stdout",
     "output_type": "stream",
     "text": [
      "1\n",
      "2\n",
      "3\n",
      "4\n",
      "5\n",
      "6\n",
      "7\n",
      "8\n",
      "9\n",
      "10\n",
      "11\n",
      "12\n",
      "13\n",
      "14\n",
      "15\n",
      "16\n",
      "17\n",
      "18\n",
      "19\n",
      "20\n",
      "21\n",
      "22\n",
      "23\n",
      "24\n",
      "25\n",
      "26\n",
      "27\n",
      "28\n",
      "29\n",
      "30\n",
      "31\n",
      "32\n",
      "33\n",
      "34\n",
      "35\n",
      "36\n",
      "37\n",
      "38\n",
      "39\n",
      "40\n",
      "41\n",
      "42\n",
      "43\n",
      "44\n",
      "45\n",
      "46\n",
      "47\n",
      "48\n",
      "49\n",
      "50\n",
      "51\n",
      "52\n",
      "53\n",
      "54\n",
      "55\n",
      "56\n",
      "57\n",
      "58\n",
      "59\n",
      "60\n",
      "61\n",
      "62\n",
      "63\n",
      "64\n",
      "65\n",
      "66\n",
      "67\n",
      "68\n",
      "69\n",
      "70\n",
      "71\n",
      "72\n",
      "73\n",
      "74\n",
      "75\n",
      "76\n",
      "77\n",
      "78\n",
      "79\n",
      "80\n",
      "81\n",
      "82\n",
      "83\n",
      "84\n"
     ]
    },
    {
     "data": {
      "text/html": [
       "<div>\n",
       "<style scoped>\n",
       "    .dataframe tbody tr th:only-of-type {\n",
       "        vertical-align: middle;\n",
       "    }\n",
       "\n",
       "    .dataframe tbody tr th {\n",
       "        vertical-align: top;\n",
       "    }\n",
       "\n",
       "    .dataframe thead th {\n",
       "        text-align: right;\n",
       "    }\n",
       "</style>\n",
       "<table border=\"1\" class=\"dataframe\">\n",
       "  <thead>\n",
       "    <tr style=\"text-align: right;\">\n",
       "      <th></th>\n",
       "      <th>author_id</th>\n",
       "      <th>title</th>\n",
       "      <th>song</th>\n",
       "      <th>nb_likes</th>\n",
       "      <th>nb_comments</th>\n",
       "      <th>nb_shares</th>\n",
       "    </tr>\n",
       "  </thead>\n",
       "  <tbody>\n",
       "    <tr>\n",
       "      <th>0</th>\n",
       "      <td>natalikhoury2</td>\n",
       "      <td>#foryou  #kinder  #kinderbueno  #chocolate  #i...</td>\n",
       "      <td>Laxed (Siren Beat) - Jawsh 685</td>\n",
       "      <td>93.9K</td>\n",
       "      <td>470</td>\n",
       "      <td>9938</td>\n",
       "    </tr>\n",
       "    <tr>\n",
       "      <th>0</th>\n",
       "      <td>mn4ever2018</td>\n",
       "      <td>מי חזר ללמוד? #4you  #foryou  #4u  #challenge ...</td>\n",
       "      <td>sonido original - joselinmontoyarod</td>\n",
       "      <td>38.7K</td>\n",
       "      <td>1298</td>\n",
       "      <td>216</td>\n",
       "    </tr>\n",
       "    <tr>\n",
       "      <th>0</th>\n",
       "      <td>tamirrusso</td>\n",
       "      <td>Time to go riding!😷😈🏍🔥 #coronavirus  #motorcyc...</td>\n",
       "      <td>Coño (feat. Jhorrmountain x Adje) - Puri</td>\n",
       "      <td>619.9K</td>\n",
       "      <td>4189</td>\n",
       "      <td>9012</td>\n",
       "    </tr>\n",
       "    <tr>\n",
       "      <th>0</th>\n",
       "      <td>ibrahimflefeil1</td>\n",
       "      <td></td>\n",
       "      <td>original sound - abutaimfleifel93</td>\n",
       "      <td>9477</td>\n",
       "      <td>464</td>\n",
       "      <td>544</td>\n",
       "    </tr>\n",
       "    <tr>\n",
       "      <th>0</th>\n",
       "      <td>kobyyooo</td>\n",
       "      <td>הסוף #foru</td>\n",
       "      <td>Astronomia - ZacWaters Remix - Tony Igy</td>\n",
       "      <td>9201</td>\n",
       "      <td>114</td>\n",
       "      <td>488</td>\n",
       "    </tr>\n",
       "    <tr>\n",
       "      <th>...</th>\n",
       "      <td>...</td>\n",
       "      <td>...</td>\n",
       "      <td>...</td>\n",
       "      <td>...</td>\n",
       "      <td>...</td>\n",
       "      <td>...</td>\n",
       "    </tr>\n",
       "    <tr>\n",
       "      <th>0</th>\n",
       "      <td>shir_sahar_1005</td>\n",
       "      <td></td>\n",
       "      <td>original sound - shir_sahar_1005</td>\n",
       "      <td>6215</td>\n",
       "      <td>70</td>\n",
       "      <td>76</td>\n",
       "    </tr>\n",
       "    <tr>\n",
       "      <th>0</th>\n",
       "      <td>ofri_moyal123</td>\n",
       "      <td>#houseoftiktok  #houseoftiktok  #houseoftiktok...</td>\n",
       "      <td>original sound - ol3tppk2me</td>\n",
       "      <td>12.9K</td>\n",
       "      <td>206</td>\n",
       "      <td>17</td>\n",
       "    </tr>\n",
       "    <tr>\n",
       "      <th>0</th>\n",
       "      <td>homegirlally</td>\n",
       "      <td></td>\n",
       "      <td>kream bebiisan edition - bebiisan</td>\n",
       "      <td>53.7K</td>\n",
       "      <td>1178</td>\n",
       "      <td>3645</td>\n",
       "    </tr>\n",
       "    <tr>\n",
       "      <th>0</th>\n",
       "      <td>danieltbraun</td>\n",
       "      <td>Gotta be that good older brother !! #foryou</td>\n",
       "      <td>original sound - danieltbraun</td>\n",
       "      <td>134.7K</td>\n",
       "      <td>612</td>\n",
       "      <td>508</td>\n",
       "    </tr>\n",
       "    <tr>\n",
       "      <th>0</th>\n",
       "      <td>dahod_awad1</td>\n",
       "      <td>#سهيل_عضو</td>\n",
       "      <td>الصوت الأصلي - mhmd.ag1234</td>\n",
       "      <td>2766</td>\n",
       "      <td>44</td>\n",
       "      <td>58</td>\n",
       "    </tr>\n",
       "  </tbody>\n",
       "</table>\n",
       "<p>84 rows × 6 columns</p>\n",
       "</div>"
      ],
      "text/plain": [
       "          author_id                                              title  \\\n",
       "0     natalikhoury2  #foryou  #kinder  #kinderbueno  #chocolate  #i...   \n",
       "0       mn4ever2018  מי חזר ללמוד? #4you  #foryou  #4u  #challenge ...   \n",
       "0        tamirrusso  Time to go riding!😷😈🏍🔥 #coronavirus  #motorcyc...   \n",
       "0   ibrahimflefeil1                                                      \n",
       "0          kobyyooo                                         הסוף #foru   \n",
       "..              ...                                                ...   \n",
       "0   shir_sahar_1005                                                      \n",
       "0     ofri_moyal123  #houseoftiktok  #houseoftiktok  #houseoftiktok...   \n",
       "0      homegirlally                                                      \n",
       "0      danieltbraun        Gotta be that good older brother !! #foryou   \n",
       "0       dahod_awad1                                          #سهيل_عضو   \n",
       "\n",
       "                                        song nb_likes nb_comments nb_shares  \n",
       "0             Laxed (Siren Beat) - Jawsh 685    93.9K         470      9938  \n",
       "0        sonido original - joselinmontoyarod    38.7K        1298       216  \n",
       "0   Coño (feat. Jhorrmountain x Adje) - Puri   619.9K        4189      9012  \n",
       "0          original sound - abutaimfleifel93     9477         464       544  \n",
       "0    Astronomia - ZacWaters Remix - Tony Igy     9201         114       488  \n",
       "..                                       ...      ...         ...       ...  \n",
       "0           original sound - shir_sahar_1005     6215          70        76  \n",
       "0                original sound - ol3tppk2me    12.9K         206        17  \n",
       "0          kream bebiisan edition - bebiisan    53.7K        1178      3645  \n",
       "0              original sound - danieltbraun   134.7K         612       508  \n",
       "0                 الصوت الأصلي - mhmd.ag1234     2766          44        58  \n",
       "\n",
       "[84 rows x 6 columns]"
      ]
     },
     "execution_count": 113,
     "metadata": {},
     "output_type": "execute_result"
    }
   ],
   "source": [
    "items = driver.find_elements(By.CLASS_NAME, 'video-feed-item')\n",
    "i = 0\n",
    "for post in items:\n",
    "    i += 1\n",
    "    # Picking post elements\n",
    "    author_id = post.find_element_by_class_name('author-uniqueId').text\n",
    "    try:\n",
    "        post_text = post.find_element(By.CLASS_NAME, 'item-meta-title')\n",
    "    except NoSuchElementException:\n",
    "        title = ''\n",
    "    else:\n",
    "        post_text = post_text.find_elements_by_xpath('.//strong')\n",
    "        title = ' '.join([el.text for el in post_text])\n",
    "    song = post.find_element(By.CLASS_NAME, 'music-title-decoration').text\n",
    "    nb_likes = post.find_element_by_css_selector(\"[title^='like']\").text\n",
    "    nb_comments = post.find_element_by_css_selector(\"[title^='comment']\").text\n",
    "    nb_shares = post.find_element_by_css_selector(\"[title^='share']\").text\n",
    "\n",
    "    # Appending post info to df\n",
    "    posts_df = posts_df.append(pd.DataFrame([[author_id, title, song, nb_likes, nb_comments, nb_shares]], columns\n",
    "    =posts_df.columns))\n",
    "    \n",
    "    # getting user info\n",
    "    \n",
    "    print(i)\n",
    "posts_df"
   ]
  },
  {
   "cell_type": "code",
   "execution_count": 114,
   "metadata": {},
   "outputs": [],
   "source": [
    "driver.close()"
   ]
  },
  {
   "cell_type": "code",
   "execution_count": null,
   "metadata": {},
   "outputs": [],
   "source": []
  }
 ],
 "metadata": {
  "kernelspec": {
   "display_name": "Python 3",
   "language": "python",
   "name": "python3"
  },
  "language_info": {
   "codemirror_mode": {
    "name": "ipython",
    "version": 3
   },
   "file_extension": ".py",
   "mimetype": "text/x-python",
   "name": "python",
   "nbconvert_exporter": "python",
   "pygments_lexer": "ipython3",
   "version": "3.6.8"
  }
 },
 "nbformat": 4,
 "nbformat_minor": 2
}
